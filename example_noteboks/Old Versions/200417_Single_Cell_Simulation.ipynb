{
 "cells": [
  {
   "cell_type": "markdown",
   "metadata": {
    "colab_type": "text",
    "id": "2gt02A8lrnTv"
   },
   "source": [
    "## Simulation for biallelic dynamics of SCN1A"
   ]
  },
  {
   "cell_type": "code",
   "execution_count": 2,
   "metadata": {
    "colab": {
     "base_uri": "https://localhost:8080/",
     "height": 395
    },
    "colab_type": "code",
    "executionInfo": {
     "elapsed": 5576,
     "status": "ok",
     "timestamp": 1587067309127,
     "user": {
      "displayName": "Richard Rosch",
      "photoUrl": "https://lh3.googleusercontent.com/a-/AOh14GjLBgNq9dVGyWSpkxv6Fv_w2Uk-uCjTbXEqz0o9iPILqLXV0I6HhrNtzC82Q3gf8k5FFA5ohu1MbhrdPem3SDogWOV4yAuHWOQRWslQR3a-OoiForZ_D7yKGSVoG55vkRrtZ1xH-9kGXRyYrOHv-8YxuWVal6fU1A1AQpuhihgE8cKrMWEl0i1ZcCCPZjofjNVNoUg4b8XH3spR2IJ8IDHZ3so3VAybSFRCqVS0ENlH1HxatuQvuQy36qlElEX954TSRqJ2ZiXDhKIcnPlEAACuOdPZuOLoNwdVufdJpKP6T8oAJZCAZI4azEj_CjkO7sL4vipcfNjBgbpeMYuI5qQxN4LMuwyE1MWQTN4yiueyT8kQ5OSJrXmqzvRnMjaPXBwu3idEumCJklbqLnsc8VjMYobjyfeN2qcf7yTZNMyQjBXzVqI3NvpM3apd4q-mWNb5Uhs6Npqq37z1hYt4kVWfuaSrb5ocxVElhuITupvaXaqLgGhhXV8rtt376RQzWC5ebeqkXCdiFMtiL_CwjsESPhXKEmNIifEW4BTmHxFkwBYzfJWnGJmcGory9OcNWxEWDrN4hOPnuAHWcWM-nqfqt7vI0dOwmqPtJ1FfUHw20YGY73leJcfqaiWmsS4eTHK74rYpWvZfP_SMtUtKEOG_t2G33tcehq1FjUdGelBMyCT0YC6KrvRW_OgvmOoPP42zOTQDqoMsaU6ihnseNyyny82ACRomFzXlr8RDPXP51_CcH97AKZ5ENtwQPbV6Xy-JEQ=s64",
      "userId": "04813684899285553409"
     },
     "user_tz": -60
    },
    "id": "kyQbnxMVnyh5",
    "outputId": "7b2a7ef4-051d-4214-abc4-0b963eb5a4cc"
   },
   "outputs": [
    {
     "name": "stdout",
     "output_type": "stream",
     "text": [
      "Obtaining file:///Volumes/GoogleDrive/My%20Drive/Research/1906%20SCN1A%20Biallelic%20Dynamics/02%20-%20Scripts/sodmod\n",
      "Installing collected packages: sodmod\n",
      "  Attempting uninstall: sodmod\n",
      "    Found existing installation: sodmod 0.1\n",
      "    Uninstalling sodmod-0.1:\n",
      "      Successfully uninstalled sodmod-0.1\n",
      "  Running setup.py develop for sodmod\n",
      "Successfully installed sodmod\n"
     ]
    }
   ],
   "source": [
    "# The following section only needs to be executed when running off of google drive\n",
    "\n",
    "# from google.colab import drive\n",
    "# drive.mount('/content/drive')\n",
    "\n",
    "# This needs to be run only once at the beginning to access the models\n",
    "#-------------------------------------------------------------------------------\n",
    "# !pip3 install --upgrade git+https://github.com/roschkoenig/SodMod.git@Single_Cell_Playground\n",
    "!pip3 install -e  '/Volumes/GoogleDrive/My Drive/Research/1906 SCN1A Biallelic Dynamics/02 - Scripts/sodmod'\n"
   ]
  },
  {
   "cell_type": "code",
   "execution_count": 1,
   "metadata": {
    "colab": {},
    "colab_type": "code",
    "id": "idVAPS-imWXa"
   },
   "outputs": [],
   "source": [
    "import matplotlib.pyplot as plt\n",
    "import numpy as np\n",
    "from importlib import reload\n",
    "from scipy.integrate import odeint\n",
    "# from torch import multiprocessing as mp\n",
    "import multiprocessing as mp\n",
    "from itertools import repeat\n",
    "# from IPython.display import set_matplotlib_formats\n",
    "# from google.colab import files\n",
    "import matplotlib as mpl\n",
    "\n",
    "import sodmod as sm\n",
    "from sodmod import params as pr\n",
    "from sodmod import cells as cl\n",
    "from sodmod import incurr as ic"
   ]
  },
  {
   "cell_type": "code",
   "execution_count": 14,
   "metadata": {
    "colab": {},
    "colab_type": "code",
    "id": "oHgNr35T8eDc"
   },
   "outputs": [],
   "source": [
    "# Manual definitions\n",
    "#===============================================================================\n",
    "# Simulations\n",
    "#-------------------------------------------------------------------------------\n",
    "V0          = -80\n",
    "NaP_scl     = 0.1\n",
    "steps       = 30                          # Number of simulations to be ru\n",
    "ctyp        = 'PY'                        # Cell type to be used 'IN', 'PY', 'RE'\n",
    "conds       = ['WT37', 'AS37', 'TI37']    # Conditions to be modelled\n",
    "cols        = ['k', 'b', 'r']             # Colours for plotting \n",
    "no_parallel = False\n",
    "whichplot   = 'sweep'               # 'bifurcation', 'ramp', or 'phasespace'                    \n",
    "\n",
    "# Define parameters for the selected plot type\n",
    "#-------------------------------------------------------------------------------\n",
    "if whichplot == 'bifurcation':\n",
    "    ptype      = 'bifurcation'\n",
    "    paradigm   = 'constant'\n",
    "    T          = np.linspace(0,250,5000)\n",
    "\n",
    "if whichplot == 'ramp':\n",
    "    ptype      = 'timeseries'\n",
    "    paradigm   = 'ramp'              \n",
    "    T          = np.linspace(0,1000,10000) \n",
    "\n",
    "if whichplot == 'phasespace':\n",
    "    ptype      = 'phasespace'\n",
    "    paradigm   = 'constant'\n",
    "    T          = np.linspace(0, 250, 5000) \n",
    "\n",
    "if whichplot == 'sweep':\n",
    "    ptype      = 'sweep'\n",
    "    paradigm   = 'constant'\n",
    "    T          = np.linspace(0,250,5000)\n",
    "\n",
    "    \n",
    "# Initial conditions\n",
    "#-------------------------------------------------------------------------------\n",
    "np.random.seed(1000)\n",
    "initial_c = {}\n",
    "initial_c['PY'] = {'WT37':np.array([[-69, 0.01, 0.01, 1.00, 0.24, 0.03]]), \n",
    "                   'AS37':np.array([[-69, 0.01, 0.01, 1.00, 0.24, 0.03]]), \n",
    "                   'TI37':np.array([[-69, 0.01, 0.01, 1.00, 0.24, 0.03]])}\n",
    "\n",
    "\n",
    "################################## ODE Solver ##################################\n",
    "\n",
    "#===============================================================================\n",
    "# Simulation executor\n",
    "#===============================================================================\n",
    "def runsim(i_scl, conds, cell, V0, Y0 = None, paradigm='constant', \n",
    "           I_off=0, NaP_scl = 1):\n",
    "    Vy    = {}\n",
    "\n",
    "    # Run simulation across conditions\n",
    "    #-------------------------------------------------------------------------------  \n",
    "    for ci in range(len(conds)):\n",
    "    par       = pr.params(conds[ci], i_scl, ctyp, paradigm, I_off = I_off, \n",
    "                          NaP_scl = NaP_scl)\n",
    "    if Y0 == None:  \n",
    "        y0    = np.random.rand(len(par['snames']))\n",
    "        y0[0] = V0\n",
    "    else:           y0 = Y0[conds[ci]][-1,:]\n",
    "    Vy.update({conds[ci]:odeint(cell, y0, T, args=(par,))})\n",
    "\n",
    "    return Vy\n",
    "\n",
    "\n",
    "############################### Plotting Routines ##############################\n",
    "#===============================================================================\n",
    "# Time series plots\n",
    "#===============================================================================\n",
    "def plot_timeseries(Vy, I_scl, ctyp, Nplots = 0, paradigm='constant'):\n",
    "\n",
    "    if Nplots == 0: Nplots = len(Vy)\n",
    "    conds = list(Vy[0].keys())\n",
    "\n",
    "    # Set up plot\n",
    "    #--------------------------------------------------------------------\n",
    "    fig, ax = plt.subplots(Nplots+1,1, figsize=(24, Nplots*6))\n",
    "    plotid  = 0\n",
    "\n",
    "    for i in range(0,len(Vy),round(len(Vy)/Nplots)):\n",
    "\n",
    "    for ci in range(len(conds)):\n",
    "        cond = conds[ci]\n",
    "        V    = Vy[i][cond][:,0]\n",
    "\n",
    "        # Do the plotting\n",
    "        #------------------------------------------------------------\n",
    "        if Nplots == 1: \n",
    "            ax[plotid].plot(T, V-ci*100, cols[ci], label=conds[ci])\n",
    "            ax[plotid].set_title(\"Max Input current \" + str(I_scl))\n",
    "            ax[plotid].legend()\n",
    "        else:\n",
    "            ax[plotid].plot(T, V-ci*100, cols[ci], label = conds[ci]) \n",
    "            ax[plotid].set_title(\"Input current\" + str(I_scl[i]))\n",
    "            ax[plotid].legend()\n",
    "\n",
    "    plotid = plotid + 1\n",
    "    ax[plotid].plot(T,[ic.Id(t,paradigm) for t in T])\n",
    "    \n",
    "\n",
    "\n",
    "#===============================================================================\n",
    "# Phase space plots\n",
    "#===============================================================================\n",
    "def plot_phasespace(Vy, I_scl, ctyp, states = ['Vm', 'm_Na'], Nplots = 0):\n",
    "\n",
    "    if Nplots == 0: Nplots = len(Vy)\n",
    "    conds = list(Vy[0].keys())\n",
    "\n",
    "    # Set up plot\n",
    "    #--------------------------------------------------------------------\n",
    "    fig, ax = plt.subplots(2,len(conds), figsize=(12*len(conds), 12))\n",
    "    testpar = pr.params(typ = ctyp)\n",
    "\n",
    "    for ci in range(len(conds)):\n",
    "        if ci == 0: cmap = plt.get_cmap('Greys')\n",
    "        if ci == 1: cmap = plt.get_cmap('Blues')\n",
    "        if ci == 2: cmap = plt.get_cmap('Reds')\n",
    "        ndcmap = cmap(np.linspace(0,1,Nplots))\n",
    "\n",
    "        setall = [i for i in range(0,len(Vy),int(np.floor(len(Vy)/Nplots)))]\n",
    "        set1 = np.intersect1d(np.where(np.log(I_scl) > -1)[0], np.where(np.log(I_scl) < 1)[0])\n",
    "\n",
    "        k = 0  \n",
    "        for i in setall:\n",
    "            cond = conds[ci]\n",
    "            s0   = Vy[i][cond][4500:5000,testpar[\"snames\"].index(states[0])]\n",
    "            s1   = Vy[i][cond][4500:5000,testpar[\"snames\"].index(states[1])]\n",
    "\n",
    "            # Do the plotting\n",
    "            #------------------------------------------------------------\n",
    "            ax[0,ci].plot(s0, s1, cols[ci], color=ndcmap[k,:]) \n",
    "            ax[0,ci].set_title(cond + \"Input current \" + str(I_scl[i]))\n",
    "\n",
    "            k = k + 1\n",
    "            \n",
    "        norm = mpl.colors.Normalize(vmin=np.log(I_scl[0]), vmax=np.log(I_scl[-1]))\n",
    "        cb   = mpl.colorbar.ColorbarBase(ax[1,ci], cmap=cmap, norm=norm, \n",
    "                                       orientation='horizontal')\n",
    "\n",
    "#===============================================================================\n",
    "# Bifurcation plots\n",
    "#===============================================================================\n",
    "def plot_bifurcation(Vy_fwd, Vy_bwd, I_fwd, I_bwd, ctyp, Nplots = None, direction = [0,1]):\n",
    "    if Nplots == None: Nplots = len(Vy_fwd)\n",
    "    conds  = list(Vy_fwd[0].keys())\n",
    "\n",
    "    # Set up plot\n",
    "    #--------------------------------------------------------------------\n",
    "    fig, ax = plt.subplots(len(conds),1, figsize=(24,6*len(conds)))\n",
    "    testpar = pr.params(typ = ctyp)\n",
    "\n",
    "    plotid = 0\n",
    "    for ci in range(len(conds)):\n",
    "        for i in range(0,len(Vy_fwd),round(len(Vy_fwd)/Nplots)):\n",
    "\n",
    "            cond = conds[ci]\n",
    "\n",
    "            if 0 in direction:\n",
    "                f    = np.zeros([2,1])\n",
    "                f[0] = np.min(Vy_fwd[i][cond][1000:5000,0])\n",
    "                f[1] = np.max(Vy_fwd[i][cond][1000:5000,0])\n",
    "                i_fwd    = np.multiply([1,1],np.log(I_fwd[i]))\n",
    "\n",
    "            if 1 in direction:\n",
    "                b    = np.zeros([2,1])\n",
    "                i_bwd    = np.multiply([1,1],np.log(I_bwd[i])) \n",
    "                b[0] = np.min(Vy_bwd[i][cond][1000:5000,0])\n",
    "                b[1] = np.max(Vy_bwd[i][cond][1000:5000,0])\n",
    "\n",
    "          # Do the plotting\n",
    "          #------------------------------------------------------------\n",
    "\n",
    "        if 0 in direction:  ax[plotid].scatter(i_fwd, f, color=cols[ci])\n",
    "        if 1 in direction:  ax[plotid].scatter(i_bwd, b, color=cols[ci], facecolor='none') \n",
    "\n",
    "    plotid = plotid + 1"
   ]
  },
  {
   "cell_type": "code",
   "execution_count": null,
   "metadata": {
    "colab": {
     "base_uri": "https://localhost:8080/",
     "height": 105
    },
    "colab_type": "code",
    "id": "W7V02Yz8ywzh",
    "outputId": "8ab5f10d-bbe8-4ea5-a9d8-047f49228ce9"
   },
   "outputs": [],
   "source": [
    "################################## Run ODE #####################################\n",
    "\n",
    "#-------------------------------------------------------------------------------\n",
    "# Parameter sweep over different normalisation ranges of NaP\n",
    "#-------------------------------------------------------------------------------\n",
    "if whichplot == 'sweep':\n",
    "\n",
    "  # Define conditions to be tested\n",
    "  #-----------------------------------------------------------------------------\n",
    "  I_scl  = np.exp(np.arange(-6,6,6/steps))\n",
    "  Na_scl = np.exp(np.arange(-3, 0,.3))\n",
    "\n",
    "  Vy = []\n",
    "  for n in Na_scl:\n",
    "    vy = []\n",
    "    for i in I_scl:\n",
    "      if len(vy) == 0: \n",
    "        initials = initial_c[ctyp] if ctyp in initial_c.keys() else None\n",
    "        vy.append(runsim(i, conds, getattr(cl,ctyp), V0, initials, paradigm, 0, n)) \n",
    "      else: \n",
    "        vy.append(runsim(i, conds, getattr(cl,ctyp),V0, vy[-1], paradigm, 0, n))\n",
    "    Vy.append(vy)\n",
    "\n",
    "#-------------------------------------------------------------------------------\n",
    "# Ramp model execution - only executes one time series\n",
    "#-------------------------------------------------------------------------------\n",
    "if whichplot == 'ramp':\n",
    "  Vy       = []\n",
    "  i_scl    = np.exp(6)     # Run all the way up to maximum value\n",
    "  Vy.append( runsim(i_scl, conds, getattr(cl, ctyp), V0, paradigm=paradigm) )\n",
    "\n",
    "#-------------------------------------------------------------------------------\n",
    "# Bifurcation execution - runs several iteration, forward and backward\n",
    "#-------------------------------------------------------------------------------\n",
    "if whichplot == 'bifurcation':\n",
    "\n",
    "  # Define conditions to be tested\n",
    "  #-------------------------------------------------------------------------------\n",
    "  I_scl = np.exp(np.arange(-2,6,6/steps))      # Input currents to be modelled\n",
    "\n",
    "  # Looped execution (for bifurcation analysis)\n",
    "  #-------------------------------------------------------------------------------\n",
    "  print('Running forward simulation')\n",
    "  Vy_fwd = []\n",
    "  I_fwd  = []\n",
    "  for i in I_scl:\n",
    "    if len(Vy_fwd) == 0:  Vy_fwd.append(runsim(i, conds, getattr(cl, ctyp), \n",
    "                                               V0, paradigm=paradigm))\n",
    "    else:                 Vy_fwd.append(runsim(i, conds, getattr(cl, ctyp), \n",
    "                                               V0, Vy_fwd[-1], paradigm=paradigm))\n",
    "    I_fwd.append(i)\n",
    "  \n",
    "  print('Running backward simulation')\n",
    "  Vy_bwd = []\n",
    "  I_bwd  = []\n",
    "  for i in np.flip(I_scl):\n",
    "    if len(Vy_bwd) == 0:  Vy_bwd.append(runsim(i, conds, getattr(cl, ctyp), \n",
    "                                               V0, paradigm=paradigm))\n",
    "    else:                 Vy_bwd.append(runsim(i, conds, getattr(cl, ctyp), \n",
    "                                               V0, Vy_bwd[-1], paradigm=paradigm))\n",
    "    I_bwd.append(i)  \n",
    "\n",
    "  Vy    = Vy_fwd\n",
    "  I_scl = I_fwd\n",
    "\n",
    "#-------------------------------------------------------------------------------\n",
    "# Phasespace execution - runs only if required - forward only\n",
    "#-------------------------------------------------------------------------------\n",
    "if whichplot == 'phasespace':\n",
    "  # Only actually run estimation of required\n",
    "  #-----------------------------------------------------------------------------\n",
    "  if not ('Vy' in locals() and len(Vy) > 1):  # Only run if bifurcation hasn't been run before \n",
    "    I_scl  = np.exp(np.arange(-2,6,6/steps))\n",
    "\n",
    "    if not no_parallel:             # Run on parallel pool if allowed\n",
    "      p      = mp.Pool(len(I_scl)) \n",
    "      Vy     = p.starmap(runsim, zip(I_scl, repeat(conds), repeat(getattr(cl, ctyp)), \n",
    "                                     repeat(V0), repeat(None), repeat(paradigm)))\n",
    "\n",
    "    else:                           # Run in sequence if no parallel \n",
    "      Vy = []\n",
    "      for i in I_scl:\n",
    "        if len(Vy) == 0:  Vy.append(runsim(i, conds, getattr(cl, ctyp), \n",
    "                                           V0, paradigm=paradigm))\n",
    "        else:             Vy.append(runsim(i, conds, getattr(cl, ctyp), \n",
    "                                           V0, Vy[-1], paradigm=paradigm))\n",
    "  \n",
    "  else: print('Didn\\'t neet to calculate anything')\n"
   ]
  },
  {
   "cell_type": "code",
   "execution_count": null,
   "metadata": {
    "colab": {
     "base_uri": "https://localhost:8080/",
     "height": 232
    },
    "colab_type": "code",
    "executionInfo": {
     "elapsed": 1327904,
     "status": "error",
     "timestamp": 1587051140539,
     "user": {
      "displayName": "Richard Rosch",
      "photoUrl": "https://lh3.googleusercontent.com/a-/AOh14GjLBgNq9dVGyWSpkxv6Fv_w2Uk-uCjTbXEqz0o9iPILqLXV0I6HhrNtzC82Q3gf8k5FFA5ohu1MbhrdPem3SDogWOV4yAuHWOQRWslQR3a-OoiForZ_D7yKGSVoG55vkRrtZ1xH-9kGXRyYrOHv-8YxuWVal6fU1A1AQpuhihgE8cKrMWEl0i1ZcCCPZjofjNVNoUg4b8XH3spR2IJ8IDHZ3so3VAybSFRCqVS0ENlH1HxatuQvuQy36qlElEX954TSRqJ2ZiXDhKIcnPlEAACuOdPZuOLoNwdVufdJpKP6T8oAJZCAZI4azEj_CjkO7sL4vipcfNjBgbpeMYuI5qQxN4LMuwyE1MWQTN4yiueyT8kQ5OSJrXmqzvRnMjaPXBwu3idEumCJklbqLnsc8VjMYobjyfeN2qcf7yTZNMyQjBXzVqI3NvpM3apd4q-mWNb5Uhs6Npqq37z1hYt4kVWfuaSrb5ocxVElhuITupvaXaqLgGhhXV8rtt376RQzWC5ebeqkXCdiFMtiL_CwjsESPhXKEmNIifEW4BTmHxFkwBYzfJWnGJmcGory9OcNWxEWDrN4hOPnuAHWcWM-nqfqt7vI0dOwmqPtJ1FfUHw20YGY73leJcfqaiWmsS4eTHK74rYpWvZfP_SMtUtKEOG_t2G33tcehq1FjUdGelBMyCT0YC6KrvRW_OgvmOoPP42zOTQDqoMsaU6ihnseNyyny82ACRomFzXlr8RDPXP51_CcH97AKZ5ENtwQPbV6Xy-JEQ=s64",
      "userId": "04813684899285553409"
     },
     "user_tz": -60
    },
    "id": "vI_gcfF8pPpA",
    "outputId": "7678cffe-faf5-455a-bd3b-d4229548b56a"
   },
   "outputs": [],
   "source": [
    "# do_save = False\n",
    "set_matplotlib_formats('svg')\n",
    "if whichplot == 'ramp': plot_timeseries(Vy, i_scl, ctyp, paradigm=paradigm)\n",
    "if whichplot == 'bifurcation': plot_bifurcation(Vy_fwd, Vy_bwd, I_fwd, I_bwd, ctyp, direction=[0,1])\n",
    "if whichplot == 'phasespace': plot_phasespace(Vy, I_scl, ctyp, ['m_Na', 'h_Na'], Nplots = 50)\n",
    "\n",
    "if do_save:\n",
    "  plt.savefig(whichplot+'.pdf')\n",
    "  files.download(whichplot+'.pdf')\n"
   ]
  },
  {
   "cell_type": "code",
   "execution_count": null,
   "metadata": {
    "colab": {},
    "colab_type": "code",
    "id": "zyzTOA_4KATD"
   },
   "outputs": [],
   "source": [
    "# Set up plot\n",
    "#--------------------------------------------------------------------\n",
    "fig, ax = plt.subplots(len(conds),1, figsize=(12,3*len(conds)))\n",
    "testpar = pr.params(typ = ctyp)\n",
    "\n",
    "Osc = np.zeros((len(conds),len(Vy),len(Vy[0])))\n",
    "ni = 0\n",
    "for vy in Vy:\n",
    "  conds  = list(vy[0].keys())\n",
    "  f = np.zeros([2,len(vy)])\n",
    "  plotid = 0\n",
    "  \n",
    "  for ci in range(len(conds)):\n",
    "    cond = conds[ci]\n",
    "    for i in range(len(vy)):\n",
    "      f[0,i] = np.min(vy[i][cond][2500:5000,0])\n",
    "      f[1,i] = np.max(vy[i][cond][2500:5000,0])\n",
    "    Osc[ci,ni,:] = f[1,:] - f[0,:]\n",
    " \n",
    "    ax[plotid].plot(np.log(I_scl), f[0,:], color=cols[ci])\n",
    "    ax[plotid].plot(np.log(I_scl), f[1,:], color=cols[ci])\n",
    "    plotid = plotid + 1\n",
    "  \n",
    "  ni = ni + 1"
   ]
  },
  {
   "cell_type": "code",
   "execution_count": 10,
   "metadata": {
    "colab": {
     "base_uri": "https://localhost:8080/",
     "height": 355
    },
    "colab_type": "code",
    "executionInfo": {
     "elapsed": 794,
     "status": "ok",
     "timestamp": 1587067054697,
     "user": {
      "displayName": "Richard Rosch",
      "photoUrl": "https://lh3.googleusercontent.com/a-/AOh14GjLBgNq9dVGyWSpkxv6Fv_w2Uk-uCjTbXEqz0o9iPILqLXV0I6HhrNtzC82Q3gf8k5FFA5ohu1MbhrdPem3SDogWOV4yAuHWOQRWslQR3a-OoiForZ_D7yKGSVoG55vkRrtZ1xH-9kGXRyYrOHv-8YxuWVal6fU1A1AQpuhihgE8cKrMWEl0i1ZcCCPZjofjNVNoUg4b8XH3spR2IJ8IDHZ3so3VAybSFRCqVS0ENlH1HxatuQvuQy36qlElEX954TSRqJ2ZiXDhKIcnPlEAACuOdPZuOLoNwdVufdJpKP6T8oAJZCAZI4azEj_CjkO7sL4vipcfNjBgbpeMYuI5qQxN4LMuwyE1MWQTN4yiueyT8kQ5OSJrXmqzvRnMjaPXBwu3idEumCJklbqLnsc8VjMYobjyfeN2qcf7yTZNMyQjBXzVqI3NvpM3apd4q-mWNb5Uhs6Npqq37z1hYt4kVWfuaSrb5ocxVElhuITupvaXaqLgGhhXV8rtt376RQzWC5ebeqkXCdiFMtiL_CwjsESPhXKEmNIifEW4BTmHxFkwBYzfJWnGJmcGory9OcNWxEWDrN4hOPnuAHWcWM-nqfqt7vI0dOwmqPtJ1FfUHw20YGY73leJcfqaiWmsS4eTHK74rYpWvZfP_SMtUtKEOG_t2G33tcehq1FjUdGelBMyCT0YC6KrvRW_OgvmOoPP42zOTQDqoMsaU6ihnseNyyny82ACRomFzXlr8RDPXP51_CcH97AKZ5ENtwQPbV6Xy-JEQ=s64",
      "userId": "04813684899285553409"
     },
     "user_tz": -60
    },
    "id": "F7VCkbldgOJv",
    "outputId": "67d76b7c-5418-49da-a192-7f05b5cfdc84"
   },
   "outputs": [
    {
     "data": {
      "image/png": "[encoded data removed]",
      "text/plain": [
       "<Figure size 432x288 with 3 Axes>"
      ]
     },
     "metadata": {
      "needs_background": "light"
     },
     "output_type": "display_data"
    }
   ],
   "source": [
    "fig, ax = plt.subplots(3,1)\n",
    "for k in range(Osc.shape[0]):\n",
    "  ax[k].imshow(Osc[k,:,:])"
   ]
  },
  {
   "cell_type": "code",
   "execution_count": 12,
   "metadata": {
    "colab": {
     "base_uri": "https://localhost:8080/",
     "height": 369
    },
    "colab_type": "code",
    "executionInfo": {
     "elapsed": 640,
     "status": "ok",
     "timestamp": 1587067217367,
     "user": {
      "displayName": "Richard Rosch",
      "photoUrl": "https://lh3.googleusercontent.com/a-/AOh14GjLBgNq9dVGyWSpkxv6Fv_w2Uk-uCjTbXEqz0o9iPILqLXV0I6HhrNtzC82Q3gf8k5FFA5ohu1MbhrdPem3SDogWOV4yAuHWOQRWslQR3a-OoiForZ_D7yKGSVoG55vkRrtZ1xH-9kGXRyYrOHv-8YxuWVal6fU1A1AQpuhihgE8cKrMWEl0i1ZcCCPZjofjNVNoUg4b8XH3spR2IJ8IDHZ3so3VAybSFRCqVS0ENlH1HxatuQvuQy36qlElEX954TSRqJ2ZiXDhKIcnPlEAACuOdPZuOLoNwdVufdJpKP6T8oAJZCAZI4azEj_CjkO7sL4vipcfNjBgbpeMYuI5qQxN4LMuwyE1MWQTN4yiueyT8kQ5OSJrXmqzvRnMjaPXBwu3idEumCJklbqLnsc8VjMYobjyfeN2qcf7yTZNMyQjBXzVqI3NvpM3apd4q-mWNb5Uhs6Npqq37z1hYt4kVWfuaSrb5ocxVElhuITupvaXaqLgGhhXV8rtt376RQzWC5ebeqkXCdiFMtiL_CwjsESPhXKEmNIifEW4BTmHxFkwBYzfJWnGJmcGory9OcNWxEWDrN4hOPnuAHWcWM-nqfqt7vI0dOwmqPtJ1FfUHw20YGY73leJcfqaiWmsS4eTHK74rYpWvZfP_SMtUtKEOG_t2G33tcehq1FjUdGelBMyCT0YC6KrvRW_OgvmOoPP42zOTQDqoMsaU6ihnseNyyny82ACRomFzXlr8RDPXP51_CcH97AKZ5ENtwQPbV6Xy-JEQ=s64",
      "userId": "04813684899285553409"
     },
     "user_tz": -60
    },
    "id": "PSD3RzSOzgUe",
    "outputId": "6b6ef90f-acfc-4b2d-fddd-ea18dac1bee5"
   },
   "outputs": [
    {
     "data": {
      "text/plain": [
       "-2.995732273553991"
      ]
     },
     "execution_count": 12,
     "metadata": {},
     "output_type": "execute_result"
    }
   ],
   "source": [
    "np.log(0.05)"
   ]
  },
  {
   "cell_type": "code",
   "execution_count": null,
   "metadata": {
    "colab": {},
    "colab_type": "code",
    "id": "rjYZNyc8k6pS"
   },
   "outputs": [],
   "source": []
  }
 ],
 "metadata": {
  "colab": {
   "collapsed_sections": [],
   "name": "Single_Cell_Simulation.ipynb",
   "provenance": []
  },
  "kernelspec": {
   "display_name": "Python 3",
   "language": "python",
   "name": "python3"
  },
  "language_info": {
   "codemirror_mode": {
    "name": "ipython",
    "version": 3
   },
   "file_extension": ".py",
   "mimetype": "text/x-python",
   "name": "python",
   "nbconvert_exporter": "python",
   "pygments_lexer": "ipython3",
   "version": "3.7.7"
  }
 },
 "nbformat": 4,
 "nbformat_minor": 2
}
