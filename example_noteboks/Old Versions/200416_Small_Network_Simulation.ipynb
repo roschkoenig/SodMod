{
 "cells": [
  {
   "cell_type": "code",
   "execution_count": 1,
   "metadata": {
    "colab": {
     "base_uri": "https://localhost:8080/",
     "height": 258
    },
    "colab_type": "code",
    "executionInfo": {
     "elapsed": 7935,
     "status": "ok",
     "timestamp": 1586796596564,
     "user": {
      "displayName": "Richard Rosch",
      "photoUrl": "https://lh3.googleusercontent.com/a-/AOh14GiRMGySfICW9ukpZmYonBNuC0HPjsrIuUCD_3-flI9OLV52wiPf1h6vCflDOvFGHLk3pGrHclY_WmUhncz9IF73dVcfer6JFyarekGjvniDuD8leksIa7ABbdi2JcFmc7yj5kMmuWIYAnHdSkiZiigCLBsRI0O48vaSicudS4CcwfqphG1ujWjMjOj29Do8a7qLZWmYJw84joEZxQSyZyhArEK22H0ytHlAKKNBPzEeNLlp6t2sgUy_GlQcIgzdW57ZH84RNj44BzjzB8Yyl1d7lSzgrB6UvZTt_qAY_lvb0wSQfYbJEyBlBIXqXcmBi7nYfcTRkJ-twWnfKPOWUQoezkDwvX_pKgryTBnQyqGmidhxHUsAgflRnq5knDRJbY7blOz3xbB-bBCSP2QRRa0JV6Cs1ft8XIMFgaJ1IS8tJvtemk9hrL-_2WNhM-dvjI6r_W8ftaoU2BebvhdBCUbYLfL8S99__masTcfy1PirBm2E2FD1K5osirsiFphIWsTffAn4oh_ORohEYmI6vLFkwtphZJtG8HHTeGOjP6kv0sb5HoOvTTTl0iZIsU9TXb1ksd74X3bIb5EumMvbVXRlQHIsLqsu-OfyVDQ7E32pJhtuEzPTAiQkZSykPIhxqjbzuTjtoFJLA9T0Z21mwut1-hHtKRa1gNlBi1HdKZ2CI8LCT2Gp5b7iUfnfIpLzjc3MG1EXCqJVNYgXdK9YYfg4RoI0pKKTGwz3TsZqdboOMViBa0gKolbQ6nNHajKe1oxcng=s64",
      "userId": "04813684899285553409"
     },
     "user_tz": -60
    },
    "id": "qSwKt2VV_gmU",
    "outputId": "b50c0ca2-34cc-48cc-dbed-b04090ec17d2"
   },
   "outputs": [
    {
     "name": "stdout",
     "output_type": "stream",
     "text": [
      "Collecting git+https://github.com/roschkoenig/SodMod.git\n",
      "  Cloning https://github.com/roschkoenig/SodMod.git to /tmp/pip-req-build-ju28gaq5\n",
      "  Running command git clone -q https://github.com/roschkoenig/SodMod.git /tmp/pip-req-build-ju28gaq5\n",
      "Building wheels for collected packages: sodmod\n",
      "  Building wheel for sodmod (setup.py) ... \u001b[?25l\u001b[?25hdone\n",
      "  Created wheel for sodmod: filename=sodmod-0.1-cp36-none-any.whl size=9843 sha256=25b26ac3c742fc7c45934482ca8857f32100b3a2a3a70b213cfb527eeb145501\n",
      "  Stored in directory: /tmp/pip-ephem-wheel-cache-06x4j7f3/wheels/07/ed/a1/0bc1410b394766c57f600844bcb0d8e79e024d8e5633a74295\n",
      "Successfully built sodmod\n",
      "Installing collected packages: sodmod\n",
      "  Found existing installation: sodmod 0.1\n",
      "    Uninstalling sodmod-0.1:\n",
      "      Successfully uninstalled sodmod-0.1\n",
      "Successfully installed sodmod-0.1\n"
     ]
    }
   ],
   "source": [
    "# The following section only needs to be executed when running off of google drive\n",
    "\n",
    "# from google.colab import drive\n",
    "# drive.mount('/content/drive')\n",
    "\n",
    "# This needs to be run only once at the beginning to access the models\n",
    "#-------------------------------------------------------------------------------\n",
    "!pip install --upgrade git+https://github.com/roschkoenig/SodMod.git\n"
   ]
  },
  {
   "cell_type": "markdown",
   "metadata": {
    "colab_type": "text",
    "id": "ut-9otMUk3wH"
   },
   "source": []
  },
  {
   "cell_type": "code",
   "execution_count": 12,
   "metadata": {
    "colab": {},
    "colab_type": "code",
    "id": "-UHKnx97_wOi"
   },
   "outputs": [],
   "source": [
    "import matplotlib.pyplot as plt\n",
    "import numpy as np\n",
    "from importlib import reload\n",
    "from scipy.integrate import odeint\n",
    "# from torch import multiprocessing as mp\n",
    "import multiprocessing as mp\n",
    "from itertools import repeat\n",
    "\n",
    "import sodmod as sm\n",
    "from sodmod import params as pr\n",
    "from sodmod import cells as cl\n",
    "from sodmod import synapse as sy"
   ]
  },
  {
   "cell_type": "code",
   "execution_count": 25,
   "metadata": {
    "colab": {
     "base_uri": "https://localhost:8080/",
     "height": 490
    },
    "colab_type": "code",
    "executionInfo": {
     "elapsed": 978,
     "status": "error",
     "timestamp": 1586802665804,
     "user": {
      "displayName": "Richard Rosch",
      "photoUrl": "https://lh3.googleusercontent.com/a-/AOh14GiRMGySfICW9ukpZmYonBNuC0HPjsrIuUCD_3-flI9OLV52wiPf1h6vCflDOvFGHLk3pGrHclY_WmUhncz9IF73dVcfer6JFyarekGjvniDuD8leksIa7ABbdi2JcFmc7yj5kMmuWIYAnHdSkiZiigCLBsRI0O48vaSicudS4CcwfqphG1ujWjMjOj29Do8a7qLZWmYJw84joEZxQSyZyhArEK22H0ytHlAKKNBPzEeNLlp6t2sgUy_GlQcIgzdW57ZH84RNj44BzjzB8Yyl1d7lSzgrB6UvZTt_qAY_lvb0wSQfYbJEyBlBIXqXcmBi7nYfcTRkJ-twWnfKPOWUQoezkDwvX_pKgryTBnQyqGmidhxHUsAgflRnq5knDRJbY7blOz3xbB-bBCSP2QRRa0JV6Cs1ft8XIMFgaJ1IS8tJvtemk9hrL-_2WNhM-dvjI6r_W8ftaoU2BebvhdBCUbYLfL8S99__masTcfy1PirBm2E2FD1K5osirsiFphIWsTffAn4oh_ORohEYmI6vLFkwtphZJtG8HHTeGOjP6kv0sb5HoOvTTTl0iZIsU9TXb1ksd74X3bIb5EumMvbVXRlQHIsLqsu-OfyVDQ7E32pJhtuEzPTAiQkZSykPIhxqjbzuTjtoFJLA9T0Z21mwut1-hHtKRa1gNlBi1HdKZ2CI8LCT2Gp5b7iUfnfIpLzjc3MG1EXCqJVNYgXdK9YYfg4RoI0pKKTGwz3TsZqdboOMViBa0gKolbQ6nNHajKe1oxcng=s64",
      "userId": "04813684899285553409"
     },
     "user_tz": -60
    },
    "id": "K4lztfmB_wyE",
    "outputId": "c4b09a2e-adde-41fb-e24d-f74fe535f284"
   },
   "outputs": [],
   "source": [
    "reload(sm)\n",
    "reload(pr)\n",
    "reload(cl)\n",
    "reload(sy)\n",
    "\n",
    "# Simulations\n",
    "#-------------------------------------------------------------------------------\n",
    "V0         = -80\n",
    "steps      = 150\n",
    "\n",
    "def net_initialise(A, celldefs, V0=-80):\n",
    "    Y0 = []\n",
    "    P = []\n",
    "    k = 0\n",
    "    \n",
    "    for c in celldefs:\n",
    "        p     = pr.params(c[1], typ=c[0], paradigm=c[2])\n",
    "        y0    = pr.initialise(p,V0,'random')\n",
    "        \n",
    "        # Pull out connectivity parameters \n",
    "        #---------------------------------------------------------------------------\n",
    "        stypes = A.keys()\n",
    "        for s in stypes:\n",
    "            inconx = A[s][k,:]\n",
    "            for i in np.where(inconx)[0]: \n",
    "                p['snames'].append('r'+s +'_'+ str(k) +'_'+ str(i))\n",
    "                np.append(y0, 0)\n",
    "        \n",
    "\n",
    "        y0[0] = V0\n",
    "        Y0.append(y0)\n",
    "        P.append({'par':p, 'ctyp':c[0], 'cond':c[1], 'paradigm':c[2]})\n",
    "        k = k + 1\n",
    "    \n",
    "    return [Y0,P]\n",
    "\n",
    "def net(Y,t,P): \n",
    "    dY = []\n",
    "    for k in range(len(Y)):\n",
    "        y           = Y[k]\n",
    "        cell        = getattr(cl, P[k]['ctyp'])\n",
    "        s['GABA']   = np.divide([rows[0] for rows in Y], P[k]['inGABA'])\n",
    "        s['GABA'][s['GABA'] == -np.inf] = np.nan\n",
    "\n",
    "        dY.append(cell(y,t,P[k]['par'],s))\n",
    "\n",
    "    return dY \n",
    "\n",
    "# Define the particular network structure you want\n",
    "#-------------------------------------------------------------------------------\n",
    "celldefs = [['PY', 'WT37', 'constant'],['IN', 'WT37', 'constant']]\n",
    "A = {}\n",
    "A['GABA'] = np.zeros((2,2))\n",
    "A['GABA'][0,1] = 1\n",
    "[Y0,P] = net_initialise(A, celldefs)\n"
   ]
  },
  {
   "cell_type": "code",
   "execution_count": 27,
   "metadata": {
    "colab": {
     "base_uri": "https://localhost:8080/",
     "height": 164
    },
    "colab_type": "code",
    "executionInfo": {
     "elapsed": 890,
     "status": "error",
     "timestamp": 1586802083980,
     "user": {
      "displayName": "Richard Rosch",
      "photoUrl": "https://lh3.googleusercontent.com/a-/AOh14GiRMGySfICW9ukpZmYonBNuC0HPjsrIuUCD_3-flI9OLV52wiPf1h6vCflDOvFGHLk3pGrHclY_WmUhncz9IF73dVcfer6JFyarekGjvniDuD8leksIa7ABbdi2JcFmc7yj5kMmuWIYAnHdSkiZiigCLBsRI0O48vaSicudS4CcwfqphG1ujWjMjOj29Do8a7qLZWmYJw84joEZxQSyZyhArEK22H0ytHlAKKNBPzEeNLlp6t2sgUy_GlQcIgzdW57ZH84RNj44BzjzB8Yyl1d7lSzgrB6UvZTt_qAY_lvb0wSQfYbJEyBlBIXqXcmBi7nYfcTRkJ-twWnfKPOWUQoezkDwvX_pKgryTBnQyqGmidhxHUsAgflRnq5knDRJbY7blOz3xbB-bBCSP2QRRa0JV6Cs1ft8XIMFgaJ1IS8tJvtemk9hrL-_2WNhM-dvjI6r_W8ftaoU2BebvhdBCUbYLfL8S99__masTcfy1PirBm2E2FD1K5osirsiFphIWsTffAn4oh_ORohEYmI6vLFkwtphZJtG8HHTeGOjP6kv0sb5HoOvTTTl0iZIsU9TXb1ksd74X3bIb5EumMvbVXRlQHIsLqsu-OfyVDQ7E32pJhtuEzPTAiQkZSykPIhxqjbzuTjtoFJLA9T0Z21mwut1-hHtKRa1gNlBi1HdKZ2CI8LCT2Gp5b7iUfnfIpLzjc3MG1EXCqJVNYgXdK9YYfg4RoI0pKKTGwz3TsZqdboOMViBa0gKolbQ6nNHajKe1oxcng=s64",
      "userId": "04813684899285553409"
     },
     "user_tz": -60
    },
    "id": "kN4VTZsMjIn6",
    "outputId": "4727ca2d-e039-4664-ee87-370dfa018503"
   },
   "outputs": [
    {
     "data": {
      "text/plain": [
       "['Vm', 'm_K', 'm_Na', 'h_Na', 'm_NaP']"
      ]
     },
     "execution_count": 27,
     "metadata": {},
     "output_type": "execute_result"
    }
   ],
   "source": [
    "P[1]['par']['snames']"
   ]
  },
  {
   "cell_type": "code",
   "execution_count": null,
   "metadata": {
    "colab": {
     "base_uri": "https://localhost:8080/",
     "height": 34
    },
    "colab_type": "code",
    "executionInfo": {
     "elapsed": 1248,
     "status": "ok",
     "timestamp": 1586782899468,
     "user": {
      "displayName": "Richard Rosch",
      "photoUrl": "https://lh3.googleusercontent.com/a-/AOh14Gi49_Kn3t0sK_QH1dhK3zOmpS0fJYjTNKCRFlUzh8x92xtAMGH70oMTVFTsyCrJjiprku4yxpisRMhn0vG6ilKiQl72KnBt7ckhtJOoby3LwWR1BZ_hQjepHeNuioBkspxVTXjjReHA0FyNntLSpe006XEn6Ie3EVol8PZBQFEvhs2DUyVy5LAZ1PZpvS7xh4lesMef3CqLVhYrClvgBnPtw6FpyB4101Q6kQ5jI7_mUlqp2jsHCAKq9dyLTLnyL0mZEojgJxFEzjq8LNSJYXx6g_-if0AmHVIb6QxK7CRQNGyZOMsMPoSYKCwTlBhE_zN31qJd313oEyScGS8RtuvlyrHLNH5fD-d_Sls1MCItnWpZeGoaDywv8Q1u3smS6xREaIhSyGla64GztH-ohfBiCO1Fht2kp22MLrPIxyv2b6zIER1u1OwvHlE7eKXbgC-Rk_J0vzAum7fxtvs_ZwCdeOxE0PRy0l3X3MkaDMN1J1bDydzQJsmHawV97ggkRzN2Hg0RDZ13NKn8wz4SKYGtdxNgC7-E_IdHFtx1yYZ06vc43NcLra0JoHcZTpw7aiP2eSq9RHPBb1XDcf9JVY-FRcXqt7_fojCMG0sMwP9ym3tMU1QQTCVdHvAR71WFjbn7nEZJU0IIBa5corC9oHt5dMUGwMWUnS4lLLDYYPBXczUfAVq9pgZaWx-Aj7osMbjZ9C1adFh2H6YGxjapZgfxarts3B5uL_QxhMMdDqVy4E_G18ZWiGTApMqcjmwAwhFZVw=s64",
      "userId": "04813684899285553409"
     },
     "user_tz": -60
    },
    "id": "-QSvZGB5fAsP",
    "outputId": "ea5a6ff5-09b2-4311-bcfb-3f87b4013d82"
   },
   "outputs": [
    {
     "data": {
      "text/plain": [
       "array([0.     , 0.     , 0.     , 0.     , 0.15158])"
      ]
     },
     "execution_count": 27,
     "metadata": {
      "tags": []
     },
     "output_type": "execute_result"
    }
   ],
   "source": [
    "# Solve ODE system\n",
    "#===============================================================================\n",
    "# Initial conditions\n",
    "#-------------------------------------------------------------------------------\n",
    "np.random.seed(1000)\n",
    "\n",
    "#===============================================================================\n",
    "# Simulation executor\n",
    "#===============================================================================\n",
    "def runsim(i_scl, conds, cell, V0, Y0 = None):\n",
    "\n",
    "  Vy    = {}\n",
    "\n",
    "  # Run simulation across conditions\n",
    "  #-------------------------------------------------------------------------------  \n",
    "  for ci in range(len(conds)):\n",
    "    par       = pr.params(conds[ci], i_scl, ctyp, paradigm)\n",
    "    if Y0 == None:  \n",
    "      y0    = np.random.rand(len(par['snames']))\n",
    "      y0[0] = V0\n",
    "    else:           y0 = Y0[conds[ci]][-1,:]\n",
    "    Vy.update({conds[ci]:odeint(cell, y0, T, args=(par,))})\n",
    "\n",
    "  return Vy"
   ]
  },
  {
   "cell_type": "code",
   "execution_count": null,
   "metadata": {
    "colab": {},
    "colab_type": "code",
    "id": "xbkcf2gmfaOt"
   },
   "outputs": [],
   "source": [
    "?np.multiply"
   ]
  },
  {
   "cell_type": "code",
   "execution_count": null,
   "metadata": {
    "colab": {},
    "colab_type": "code",
    "id": "WyZuHrzZjXhX"
   },
   "outputs": [],
   "source": []
  }
 ],
 "metadata": {
  "colab": {
   "authorship_tag": "ABX9TyOzUk29jbA/ZbVdjZ/llxd+",
   "collapsed_sections": [],
   "name": "Small_Network_Simulation.ipynb",
   "provenance": []
  },
  "kernelspec": {
   "display_name": "Python 3",
   "language": "python",
   "name": "python3"
  },
  "language_info": {
   "codemirror_mode": {
    "name": "ipython",
    "version": 3
   },
   "file_extension": ".py",
   "mimetype": "text/x-python",
   "name": "python",
   "nbconvert_exporter": "python",
   "pygments_lexer": "ipython3",
   "version": "3.7.7"
  }
 },
 "nbformat": 4,
 "nbformat_minor": 2
}
