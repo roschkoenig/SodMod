{
 "cells": [
  {
   "cell_type": "markdown",
   "metadata": {
    "colab_type": "text",
    "id": "2gt02A8lrnTv"
   },
   "source": [
    "## Simulation for biallelic dynamics of SCN1A"
   ]
  },
  {
   "cell_type": "markdown",
   "metadata": {},
   "source": [
    "This code implements empirical recordings of mutant sodium channel gating behaviour in a Hodgkin Huxley model of cortical neuronal firing. A live version of this notebook can be opened in the [google colab](https://bit.ly/SodMod-Notebook) interactive coding environment. This means you can trial some of the analysis without installing additional code. "
   ]
  },
  {
   "cell_type": "code",
   "execution_count": 49,
   "metadata": {
    "colab": {
     "base_uri": "https://localhost:8080/",
     "height": 395
    },
    "colab_type": "code",
    "executionInfo": {
     "elapsed": 5576,
     "status": "ok",
     "timestamp": 1587067309127,
     "user": {
      "displayName": "Richard Rosch",
      "photoUrl": "https://lh3.googleusercontent.com/a-/AOh14GjLBgNq9dVGyWSpkxv6Fv_w2Uk-uCjTbXEqz0o9iPILqLXV0I6HhrNtzC82Q3gf8k5FFA5ohu1MbhrdPem3SDogWOV4yAuHWOQRWslQR3a-OoiForZ_D7yKGSVoG55vkRrtZ1xH-9kGXRyYrOHv-8YxuWVal6fU1A1AQpuhihgE8cKrMWEl0i1ZcCCPZjofjNVNoUg4b8XH3spR2IJ8IDHZ3so3VAybSFRCqVS0ENlH1HxatuQvuQy36qlElEX954TSRqJ2ZiXDhKIcnPlEAACuOdPZuOLoNwdVufdJpKP6T8oAJZCAZI4azEj_CjkO7sL4vipcfNjBgbpeMYuI5qQxN4LMuwyE1MWQTN4yiueyT8kQ5OSJrXmqzvRnMjaPXBwu3idEumCJklbqLnsc8VjMYobjyfeN2qcf7yTZNMyQjBXzVqI3NvpM3apd4q-mWNb5Uhs6Npqq37z1hYt4kVWfuaSrb5ocxVElhuITupvaXaqLgGhhXV8rtt376RQzWC5ebeqkXCdiFMtiL_CwjsESPhXKEmNIifEW4BTmHxFkwBYzfJWnGJmcGory9OcNWxEWDrN4hOPnuAHWcWM-nqfqt7vI0dOwmqPtJ1FfUHw20YGY73leJcfqaiWmsS4eTHK74rYpWvZfP_SMtUtKEOG_t2G33tcehq1FjUdGelBMyCT0YC6KrvRW_OgvmOoPP42zOTQDqoMsaU6ihnseNyyny82ACRomFzXlr8RDPXP51_CcH97AKZ5ENtwQPbV6Xy-JEQ=s64",
      "userId": "04813684899285553409"
     },
     "user_tz": -60
    },
    "id": "kyQbnxMVnyh5",
    "outputId": "7b2a7ef4-051d-4214-abc4-0b963eb5a4cc"
   },
   "outputs": [
    {
     "name": "stdout",
     "output_type": "stream",
     "text": [
      "Obtaining file:///Volumes/GoogleDrive/My%20Drive/Research/1906%20SCN1A%20Biallelic%20Dynamics/02%20-%20Scripts/sodmod\n",
      "Installing collected packages: sodmod\n",
      "  Attempting uninstall: sodmod\n",
      "    Found existing installation: sodmod 0.1\n",
      "    Uninstalling sodmod-0.1:\n",
      "      Successfully uninstalled sodmod-0.1\n",
      "  Running setup.py develop for sodmod\n",
      "Successfully installed sodmod\n"
     ]
    }
   ],
   "source": [
    "# The following section only needs to be executed when running off of google drive\n",
    "\n",
    "# from google.colab import drive\n",
    "# drive.mount('/content/drive')\n",
    "\n",
    "# This needs to be run only once at the beginning to access the models\n",
    "#-------------------------------------------------------------------------------\n",
    "# !pip3 install --upgrade git+https://github.com/roschkoenig/SodMod.git@Single_Cell_Playground\n",
    "import sys\n",
    "!{sys.executable} -m pip install -e '/Volumes/GoogleDrive/My Drive/Research/1906 SCN1A Biallelic Dynamics/02 - Scripts/sodmod'\n"
   ]
  },
  {
   "cell_type": "code",
   "execution_count": 50,
   "metadata": {
    "colab": {},
    "colab_type": "code",
    "id": "idVAPS-imWXa"
   },
   "outputs": [],
   "source": [
    "import matplotlib.pyplot as plt\n",
    "import numpy as np\n",
    "from importlib import reload\n",
    "from scipy.integrate import odeint\n",
    "from itertools import repeat\n",
    "from IPython.display import set_matplotlib_formats\n",
    "# from google.colab import files\n",
    "import matplotlib as mpl\n",
    "import pickle\n",
    "import os\n",
    "\n",
    "import sodmod as sm\n",
    "from sodmod import params as pr\n",
    "from sodmod import cells as cl\n",
    "from sodmod import incurr as ic\n",
    "from sodmod import plot as pl"
   ]
  },
  {
   "cell_type": "code",
   "execution_count": 51,
   "metadata": {
    "colab": {},
    "colab_type": "code",
    "id": "oHgNr35T8eDc"
   },
   "outputs": [],
   "source": [
    "# Manual definitions\n",
    "#===============================================================================\n",
    "# Simulations\n",
    "#-------------------------------------------------------------------------------\n",
    "np.random.seed(1000)\n",
    "F           = {'base': '/Volumes/GoogleDrive/My Drive/Research/1906 SCN1A Biallelic Dynamics/02 - Scripts/sodmod'}\n",
    "F.update({'figs':F['base'] +os.sep+ 'figures'})\n",
    "\n",
    "# Define parameters for the selected plot type\n",
    "#-------------------------------------------------------------------------------\n",
    "class sim_specs:\n",
    "    def __init__(self, whichplot, itype = 'random', steps = None):\n",
    "        self.name   = whichplot\n",
    "        self.V0     = -80\n",
    "        self.conds  = ['WT37', 'TI37', 'AS37']    # Conditions to be modelled\n",
    "        self.cols   = ['k', 'r', 'b']             # Colours for plotting \n",
    "        self.cmaps  = [plt.get_cmap('Greys'), \n",
    "                       plt.get_cmap('Reds'), \n",
    "                       plt.get_cmap('Blues')]\n",
    "        self.ctyp   = 'PY'\n",
    "\n",
    "        if whichplot == 'sweep':\n",
    "            self.ptype      = 'sweep'\n",
    "            self.paradigm   = 'constant'\n",
    "            self.T          = np.linspace(0,250,5000)\n",
    "            self.steps      = steps if steps else 30\n",
    "\n",
    "        if whichplot == 'bifurcation':\n",
    "            self.ptype      = 'bifurcation'\n",
    "            self.paradigm   = 'constant'\n",
    "            self.T          = np.linspace(0,250,5000)\n",
    "            self.steps      = steps if steps else 30\n",
    "\n",
    "        if whichplot == 'ramp':\n",
    "            self.ptype      = 'timeseries'\n",
    "            self.paradigm   = 'ramp'              \n",
    "            self.T          = np.linspace(0,1000,10000) \n",
    "        \n",
    "    def initialise(self, itype = 'random'):\n",
    "        if itype == 'random':\n",
    "            V0 = {}\n",
    "            for c in self.conds:\n",
    "                testpar = pr.params(self.conds[0], 0, self.ctyp, self.paradigm,\n",
    "                                    NaP_scl = 0)\n",
    "                v0 = np.random.rand(1,len(testpar['snames']))\n",
    "                v0[0,0] = self.V0\n",
    "                V0.update({c:v0})\n",
    "            \n",
    "        if itype == 'preset_baseline_same':\n",
    "            V0 = {'WT37':np.array([[-69, 0.01, 0.01, 1.00, 0.24, 0.03]]), \n",
    "                  'AS37':np.array([[-69, 0.01, 0.01, 1.00, 0.24, 0.03]]), \n",
    "                  'TI37':np.array([[-69, 0.01, 0.01, 1.00, 0.24, 0.03]])}\n",
    "            \n",
    "        if itype == 'preset_baseline_types':\n",
    "            # These values are derived from running a few simulations until steady state is achieved \n",
    "            V0 = {'WT37':np.array([[-67.72, 0.017, 0.016, 1.00, 0.03, 0.04]]),\n",
    "                  'AS37':np.array([[-68.48, 0.015, 0.010, 1.00, 0.02, 0.03]]), \n",
    "                  'TI37':np.array([[-56.18, 0.072, 0.083, 0.87, 0.24, 0.08]])}\n",
    "\n",
    "        self.Y0 = V0\n",
    "        return self\n"
   ]
  },
  {
   "cell_type": "markdown",
   "metadata": {},
   "source": [
    "# Parameter Sweep \n",
    "One of the key parameters that differs between mutants and wild types is not included in the standard HH formulations of cortical neurons: the conductance associated with the __persistent sodium current__. In order to identify ranges of this parameter that still allow firing of neurons, we have implemented a parameter sweep. \n",
    "\n",
    "For this, we scale the contribution of persistant sodium currents to the overall sodium conductance, whilst preserving relative differences between the HH models of different mutants. For each value of this _scaling parameter_, we then evaluate the range of input currents for which the neurons still fire. \n",
    "\n",
    "### Relevant variables in code below\n",
    "\n",
    "- __`Na_scl`__: scaling parameter that adjusts the relative contribution of the persistent sodium current\n",
    "- __`I_scl`__: scaling parameter that adjusts the input current for each model run\n",
    "- __`Vy`__: This is a two dimensional array (of the scale $n*m$, where $n$  is the length of `Na_scl`, and $m$ is the length of `I_scl`) that contains all simulations. Each element of the array is a dictionary, which contains one simulated time series for each condition. "
   ]
  },
  {
   "cell_type": "code",
   "execution_count": 52,
   "metadata": {},
   "outputs": [
    {
     "name": "stdout",
     "output_type": "stream",
     "text": [
      "Simulating different scaling for the persistent sodium current:\n",
      "Currently runnning simulation No. 1/30\n"
     ]
    },
    {
     "ename": "NameError",
     "evalue": "name 'ctyp' is not defined",
     "output_type": "error",
     "traceback": [
      "\u001b[0;31m---------------------------------------------------------------------------\u001b[0m",
      "\u001b[0;31mNameError\u001b[0m                                 Traceback (most recent call last)",
      "\u001b[0;32m<ipython-input-52-7d1d97ee8acc>\u001b[0m in \u001b[0;36m<module>\u001b[0;34m\u001b[0m\n\u001b[1;32m     16\u001b[0m         \u001b[0;32mfor\u001b[0m \u001b[0mi\u001b[0m \u001b[0;32min\u001b[0m \u001b[0mI_scl\u001b[0m\u001b[0;34m:\u001b[0m\u001b[0;34m\u001b[0m\u001b[0;34m\u001b[0m\u001b[0m\n\u001b[1;32m     17\u001b[0m             \u001b[0;32mif\u001b[0m \u001b[0mlen\u001b[0m\u001b[0;34m(\u001b[0m\u001b[0mvy\u001b[0m\u001b[0;34m)\u001b[0m \u001b[0;34m==\u001b[0m \u001b[0;36m0\u001b[0m\u001b[0;34m:\u001b[0m\u001b[0;34m\u001b[0m\u001b[0;34m\u001b[0m\u001b[0m\n\u001b[0;32m---> 18\u001b[0;31m                 \u001b[0minitials\u001b[0m \u001b[0;34m=\u001b[0m \u001b[0minitial_c\u001b[0m\u001b[0;34m[\u001b[0m\u001b[0mctyp\u001b[0m\u001b[0;34m]\u001b[0m \u001b[0;32mif\u001b[0m \u001b[0mctyp\u001b[0m \u001b[0;32min\u001b[0m \u001b[0minitial_c\u001b[0m\u001b[0;34m.\u001b[0m\u001b[0mkeys\u001b[0m\u001b[0;34m(\u001b[0m\u001b[0;34m)\u001b[0m \u001b[0;32melse\u001b[0m \u001b[0;32mNone\u001b[0m\u001b[0;34m\u001b[0m\u001b[0;34m\u001b[0m\u001b[0m\n\u001b[0m\u001b[1;32m     19\u001b[0m                 \u001b[0mvy\u001b[0m\u001b[0;34m.\u001b[0m\u001b[0mappend\u001b[0m\u001b[0;34m(\u001b[0m\u001b[0mcl\u001b[0m\u001b[0;34m.\u001b[0m\u001b[0mrunsim\u001b[0m\u001b[0;34m(\u001b[0m\u001b[0mi\u001b[0m\u001b[0;34m,\u001b[0m \u001b[0mn\u001b[0m\u001b[0;34m,\u001b[0m \u001b[0mspecs\u001b[0m\u001b[0;34m,\u001b[0m \u001b[0mspecs\u001b[0m\u001b[0;34m.\u001b[0m\u001b[0mY0\u001b[0m\u001b[0;34m)\u001b[0m\u001b[0;34m)\u001b[0m\u001b[0;34m\u001b[0m\u001b[0;34m\u001b[0m\u001b[0m\n\u001b[1;32m     20\u001b[0m             \u001b[0;32melse\u001b[0m\u001b[0;34m:\u001b[0m\u001b[0;34m\u001b[0m\u001b[0;34m\u001b[0m\u001b[0m\n",
      "\u001b[0;31mNameError\u001b[0m: name 'ctyp' is not defined"
     ]
    }
   ],
   "source": [
    "specs = sim_specs('sweep', steps = 30).initialise('preset_baseline_types')\n",
    "if specs.name == 'sweep':\n",
    "\n",
    "    # Define conditions to be tested\n",
    "    #-----------------------------------------------------------------------------\n",
    "    I_scl  = np.exp(np.linspace(-6,6,specs.steps))\n",
    "    Na_scl = np.exp(np.linspace(-3,0,specs.steps))\n",
    "\n",
    "    Vy = []\n",
    "    ni = 0\n",
    "    \n",
    "    print('Simulating different scaling for the persistent sodium current:')\n",
    "    for n in Na_scl:\n",
    "        print('Currently runnning simulation No. ' +str(ni+1)+ '/' +str(len(Na_scl)))\n",
    "        vy = []\n",
    "        for i in I_scl:\n",
    "            if len(vy) == 0: vy.append(cl.runsim(i, n, specs, specs.Y0)) \n",
    "            else: vy.append(cl.runsim(i, n, specs, vy[-1]))\n",
    "        Vy.append(vy)\n",
    "        ni = ni + 1\n",
    "        \n",
    "sw = {'Y':Vy, 'I':I_scl, 'N':Na_scl, 'S':specs}   # Package up for plotting "
   ]
  },
  {
   "cell_type": "markdown",
   "metadata": {},
   "source": [
    "### Parameter sweep plot\n",
    "Below we plot the results of the parameter sweep: On the left we plot the bifurcation plots with control-parameter `I_scl`, for various values of `Na_scl`. On the left we show the same data, but now showing the two-dimensional map of the two parameters, with each pixel representing the oscillatory amplitude for the particular parameter bin."
   ]
  },
  {
   "cell_type": "code",
   "execution_count": null,
   "metadata": {},
   "outputs": [],
   "source": [
    "reload(pl)\n",
    "set_matplotlib_formats('svg')\n",
    "pl.sweep(sw['Y'], sw['I'], sw['N'], sw['S'], figscale = .7)\n",
    "if False: plt.savefig(F['figs'] +os.sep+ sw['S'].name + '.svg')"
   ]
  },
  {
   "cell_type": "markdown",
   "metadata": {},
   "source": [
    "# Bifurcation analysis\n",
    "Based on the analysis above, we choose a persistent sodium current value for which all three neuronal classes have at least some firing activity. For these, we rerun the simulation above in finer granularity and both forwards and backwards in order to identify the bifurcation behaviour of each of the neurons"
   ]
  },
  {
   "cell_type": "code",
   "execution_count": null,
   "metadata": {},
   "outputs": [],
   "source": [
    "reload(cl)\n",
    "\n",
    "specs = sim_specs('bifurcation', steps = 150).initialise('preset_baseline_types')\n",
    "if specs.name == 'bifurcation':\n",
    "\n",
    "    # Define conditions to be tested\n",
    "    #-------------------------------------------------------------------------------\n",
    "    I_scl = np.exp(np.linspace(-6,6,specs.steps))      # Input currents to be modelled\n",
    "    Na_scl = np.exp(-2.5)\n",
    "\n",
    "    # Looped execution (for bifurcation analysis)\n",
    "    #-------------------------------------------------------------------------------\n",
    "    print('Running forward simulation')\n",
    "    Vy_fwd = []\n",
    "    I_fwd  = []\n",
    "    for i in I_scl:\n",
    "        if len(Vy_fwd) == 0:  Vy_fwd.append(cl.runsim(i, Na_scl, specs))\n",
    "        else:                 Vy_fwd.append(cl.runsim(i, Na_scl, specs, Vy_fwd[-1]))\n",
    "        I_fwd.append(i)\n",
    "  \n",
    "    print('Running backward simulation')\n",
    "    Vy_bwd = []\n",
    "    I_bwd  = []\n",
    "    for i in np.flip(I_scl):\n",
    "        if len(Vy_bwd) == 0:  Vy_bwd.append(cl.runsim(i, Na_scl, specs))\n",
    "        else:                 Vy_bwd.append(cl.runsim(i, Na_scl, specs, Vy_bwd[-1]))\n",
    "        I_bwd.append(i)  \n",
    "\n",
    "bf = {'Yf':Vy_fwd, 'Yb':Vy_bwd, 'If':I_fwd, 'Ib':I_bwd, 'N':Na_scl, 'S':specs}"
   ]
  },
  {
   "cell_type": "markdown",
   "metadata": {},
   "source": [
    "### Bifurcation plot\n",
    "This produces a 'classical' bifurcation plot of neuronal firing - by changing the input current gradually between different values, we identify the 'firing threshold' for each of the parameterisations of the Hodgkin Huxley model. This is similar to the analysis done above, but includes more steps, and a forward and backward sweep to identify areas of bistability in the model. "
   ]
  },
  {
   "cell_type": "code",
   "execution_count": null,
   "metadata": {},
   "outputs": [],
   "source": [
    "reload(pl) \n",
    "set_matplotlib_formats('svg')\n",
    "pl.bifurcation(bf['Yf'], bf['Yb'], bf['If'], bf['Ib'], bf['S'], figscale = 0.7)\n",
    "if False: plt.savefig(F['figs'] +os.sep+ bf['S'].name + '.svg')"
   ]
  },
  {
   "cell_type": "markdown",
   "metadata": {},
   "source": [
    "### Phase space plot\n",
    "A different representation of the data are the phase space plots. By plotting the different time varying states against each other (rather than against time), we can demonstrate the stereotyped nature of the oscillations (representing stable limit cycles) and their similarities and dissimilarities across conditions. "
   ]
  },
  {
   "cell_type": "code",
   "execution_count": null,
   "metadata": {},
   "outputs": [],
   "source": [
    "reload(pl)\n",
    "set_matplotlib_formats('svg')\n",
    "pl.phasespace(bf['Yf'], bf['If'], bf['S'], Nplots = 30, states = ['m_Na', 'h_Na'], figscale = .7)\n",
    "if False: plt.savefig(F['figs'] +os.sep+ 'phase_space.svg')"
   ]
  },
  {
   "cell_type": "markdown",
   "metadata": {},
   "source": [
    "# Example time series\n",
    "To visualise the neuronal firing patterns across the range of the input currents, we plot the firing for an exponential ramp of input currents. "
   ]
  },
  {
   "cell_type": "code",
   "execution_count": null,
   "metadata": {},
   "outputs": [],
   "source": [
    "specs   = sim_specs('ramp').initialise('preset_baseline_types')\n",
    "I_scl   = np.exp(6)         # Maximum input current achieved by the ramp \n",
    "NaP_scl = np.exp(-2.5)      # Na_scl value as identified above \n",
    "\n",
    "if specs.name == 'ramp':\n",
    "    Vy       = [cl.runsim(I_scl, NaP_scl, specs, specs.Y0)]\n",
    "\n",
    "rp = {'Y':Vy, 'I':I_scl, 'S':specs, 'N':NaP_scl}"
   ]
  },
  {
   "cell_type": "code",
   "execution_count": null,
   "metadata": {},
   "outputs": [],
   "source": [
    "reload(pl)\n",
    "set_matplotlib_formats('svg')\n",
    "pl.timeseries(rp['Y'], rp['I'], rp['S'], figscale=.7)\n",
    "if False: plt.savefig(F['figs'] +os.sep+ specs.name + '.svg')"
   ]
  },
  {
   "cell_type": "code",
   "execution_count": null,
   "metadata": {},
   "outputs": [],
   "source": []
  }
 ],
 "metadata": {
  "colab": {
   "collapsed_sections": [],
   "name": "Single_Cell_Simulation.ipynb",
   "provenance": []
  },
  "kernelspec": {
   "display_name": "Python 3",
   "language": "python",
   "name": "python3"
  },
  "language_info": {
   "codemirror_mode": {
    "name": "ipython",
    "version": 3
   },
   "file_extension": ".py",
   "mimetype": "text/x-python",
   "name": "python",
   "nbconvert_exporter": "python",
   "pygments_lexer": "ipython3",
   "version": "3.7.7"
  }
 },
 "nbformat": 4,
 "nbformat_minor": 2
}
